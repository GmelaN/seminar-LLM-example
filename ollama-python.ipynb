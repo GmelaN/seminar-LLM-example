{
 "cells": [
  {
   "cell_type": "markdown",
   "metadata": {},
   "source": [
    "## Ollama python 써 보기"
   ]
  },
  {
   "cell_type": "code",
   "execution_count": 6,
   "metadata": {},
   "outputs": [
    {
     "name": "stdout",
     "output_type": "stream",
     "text": [
      "\n",
      "The sky appears blue because of a phenomenon called Rayleigh scattering, which occurs when sunlight passes through the Earth's atmosphere. The atmosphere contains tiny molecules of gases such as nitrogen and oxygen, which scatters the sunlight in all directions.\n",
      "\n",
      "The shorter wavelengths of light, such as blue and violet, are scattered more than the longer wavelengths, such as red and orange. This is because the smaller wavelengths have a shorter wave length, which means they are easier to scatter. As a result, more blue and violet light reaches our eyes, giving the sky its characteristic blue color.\n",
      "\n",
      "In addition to Rayleigh scattering, the Earth's atmosphere also contains other particles such as dust, water vapor, and pollutants that can affect the color of the sky. For example, during sunrise and sunset, when the sun is low on the horizon, the light has to travel through more of the atmosphere to reach our eyes, which can make the sky appear more red or orange.\n",
      "\n",
      "Overall, the blue color of the sky is a result of the combination of various factors, including the scattering of sunlight by the Earth's atmosphere and the presence of other particles in the atmosphere that can affect the color of the light that reaches our eyes."
     ]
    }
   ],
   "source": [
    "import ollama\n",
    "\n",
    "stream = ollama.chat(\n",
    "    model='llama2',\n",
    "    messages=[{'role': 'user', 'content': 'Why is the sky blue?'}],\n",
    "    stream=True,\n",
    ")\n",
    "\n",
    "for chunk in stream:\n",
    "  print(chunk['message']['content'], end='', flush=True)"
   ]
  }
 ],
 "metadata": {
  "kernelspec": {
   "display_name": "dog9",
   "language": "python",
   "name": "python3"
  },
  "language_info": {
   "codemirror_mode": {
    "name": "ipython",
    "version": 3
   },
   "file_extension": ".py",
   "mimetype": "text/x-python",
   "name": "python",
   "nbconvert_exporter": "python",
   "pygments_lexer": "ipython3",
   "version": "3.12.2"
  }
 },
 "nbformat": 4,
 "nbformat_minor": 2
}
